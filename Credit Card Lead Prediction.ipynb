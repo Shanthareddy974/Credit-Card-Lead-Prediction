{
 "cells": [
  {
   "cell_type": "markdown",
   "metadata": {},
   "source": [
    "# Credit Card Lead Prediction"
   ]
  },
  {
   "cell_type": "code",
   "execution_count": 1,
   "metadata": {},
   "outputs": [],
   "source": [
    "# Import libraries\n",
    "import numpy as np\n",
    "import pandas as pd\n",
    "import matplotlib.pyplot as plt\n",
    "import seaborn as sns\n",
    "import warnings\n",
    "warnings.filterwarnings('ignore')"
   ]
  },
  {
   "cell_type": "code",
   "execution_count": 76,
   "metadata": {},
   "outputs": [
    {
     "data": {
      "text/html": [
       "<div>\n",
       "<style scoped>\n",
       "    .dataframe tbody tr th:only-of-type {\n",
       "        vertical-align: middle;\n",
       "    }\n",
       "\n",
       "    .dataframe tbody tr th {\n",
       "        vertical-align: top;\n",
       "    }\n",
       "\n",
       "    .dataframe thead th {\n",
       "        text-align: right;\n",
       "    }\n",
       "</style>\n",
       "<table border=\"1\" class=\"dataframe\">\n",
       "  <thead>\n",
       "    <tr style=\"text-align: right;\">\n",
       "      <th></th>\n",
       "      <th>ID</th>\n",
       "      <th>Gender</th>\n",
       "      <th>Age</th>\n",
       "      <th>Region_Code</th>\n",
       "      <th>Occupation</th>\n",
       "      <th>Channel_Code</th>\n",
       "      <th>Vintage</th>\n",
       "      <th>Credit_Product</th>\n",
       "      <th>Avg_Account_Balance</th>\n",
       "      <th>Is_Active</th>\n",
       "      <th>Is_Lead</th>\n",
       "    </tr>\n",
       "  </thead>\n",
       "  <tbody>\n",
       "    <tr>\n",
       "      <th>0</th>\n",
       "      <td>NNVBBKZB</td>\n",
       "      <td>Female</td>\n",
       "      <td>73</td>\n",
       "      <td>RG268</td>\n",
       "      <td>Other</td>\n",
       "      <td>X3</td>\n",
       "      <td>43</td>\n",
       "      <td>No</td>\n",
       "      <td>1045696</td>\n",
       "      <td>No</td>\n",
       "      <td>0</td>\n",
       "    </tr>\n",
       "    <tr>\n",
       "      <th>1</th>\n",
       "      <td>IDD62UNG</td>\n",
       "      <td>Female</td>\n",
       "      <td>30</td>\n",
       "      <td>RG277</td>\n",
       "      <td>Salaried</td>\n",
       "      <td>X1</td>\n",
       "      <td>32</td>\n",
       "      <td>No</td>\n",
       "      <td>581988</td>\n",
       "      <td>No</td>\n",
       "      <td>0</td>\n",
       "    </tr>\n",
       "    <tr>\n",
       "      <th>2</th>\n",
       "      <td>HD3DSEMC</td>\n",
       "      <td>Female</td>\n",
       "      <td>56</td>\n",
       "      <td>RG268</td>\n",
       "      <td>Self_Employed</td>\n",
       "      <td>X3</td>\n",
       "      <td>26</td>\n",
       "      <td>No</td>\n",
       "      <td>1484315</td>\n",
       "      <td>Yes</td>\n",
       "      <td>0</td>\n",
       "    </tr>\n",
       "    <tr>\n",
       "      <th>3</th>\n",
       "      <td>BF3NC7KV</td>\n",
       "      <td>Male</td>\n",
       "      <td>34</td>\n",
       "      <td>RG270</td>\n",
       "      <td>Salaried</td>\n",
       "      <td>X1</td>\n",
       "      <td>19</td>\n",
       "      <td>No</td>\n",
       "      <td>470454</td>\n",
       "      <td>No</td>\n",
       "      <td>0</td>\n",
       "    </tr>\n",
       "    <tr>\n",
       "      <th>4</th>\n",
       "      <td>TEASRWXV</td>\n",
       "      <td>Female</td>\n",
       "      <td>30</td>\n",
       "      <td>RG282</td>\n",
       "      <td>Salaried</td>\n",
       "      <td>X1</td>\n",
       "      <td>33</td>\n",
       "      <td>No</td>\n",
       "      <td>886787</td>\n",
       "      <td>No</td>\n",
       "      <td>0</td>\n",
       "    </tr>\n",
       "  </tbody>\n",
       "</table>\n",
       "</div>"
      ],
      "text/plain": [
       "         ID  Gender  Age Region_Code     Occupation Channel_Code  Vintage  \\\n",
       "0  NNVBBKZB  Female   73       RG268          Other           X3       43   \n",
       "1  IDD62UNG  Female   30       RG277       Salaried           X1       32   \n",
       "2  HD3DSEMC  Female   56       RG268  Self_Employed           X3       26   \n",
       "3  BF3NC7KV    Male   34       RG270       Salaried           X1       19   \n",
       "4  TEASRWXV  Female   30       RG282       Salaried           X1       33   \n",
       "\n",
       "  Credit_Product  Avg_Account_Balance Is_Active  Is_Lead  \n",
       "0             No              1045696        No        0  \n",
       "1             No               581988        No        0  \n",
       "2             No              1484315       Yes        0  \n",
       "3             No               470454        No        0  \n",
       "4             No               886787        No        0  "
      ]
     },
     "execution_count": 76,
     "metadata": {},
     "output_type": "execute_result"
    }
   ],
   "source": [
    "# Import dataset\n",
    "df_train = pd.read_csv('train_s3TEQDk.csv')\n",
    "df_train.head()"
   ]
  },
  {
   "cell_type": "code",
   "execution_count": 6,
   "metadata": {},
   "outputs": [
    {
     "data": {
      "text/plain": [
       "(245725, 11)"
      ]
     },
     "execution_count": 6,
     "metadata": {},
     "output_type": "execute_result"
    }
   ],
   "source": [
    "# Shape of the data\n",
    "df_train.shape\n",
    "\n",
    "# There is 2.45L rows and 11 columns are there."
   ]
  },
  {
   "cell_type": "code",
   "execution_count": 7,
   "metadata": {},
   "outputs": [
    {
     "name": "stdout",
     "output_type": "stream",
     "text": [
      "<class 'pandas.core.frame.DataFrame'>\n",
      "RangeIndex: 245725 entries, 0 to 245724\n",
      "Data columns (total 11 columns):\n",
      " #   Column               Non-Null Count   Dtype \n",
      "---  ------               --------------   ----- \n",
      " 0   ID                   245725 non-null  object\n",
      " 1   Gender               245725 non-null  object\n",
      " 2   Age                  245725 non-null  int64 \n",
      " 3   Region_Code          245725 non-null  object\n",
      " 4   Occupation           245725 non-null  object\n",
      " 5   Channel_Code         245725 non-null  object\n",
      " 6   Vintage              245725 non-null  int64 \n",
      " 7   Credit_Product       216400 non-null  object\n",
      " 8   Avg_Account_Balance  245725 non-null  int64 \n",
      " 9   Is_Active            245725 non-null  object\n",
      " 10  Is_Lead              245725 non-null  int64 \n",
      "dtypes: int64(4), object(7)\n",
      "memory usage: 20.6+ MB\n"
     ]
    }
   ],
   "source": [
    "# Datatypes of the dataset\n",
    "df_train.info()"
   ]
  },
  {
   "cell_type": "markdown",
   "metadata": {},
   "source": [
    "* Except Age, Vintage and Avg_Account_Balance all other variables are categorical in nature.\n",
    "* Also presence of missing values are seen in Credit_Product variable.\n",
    "* Is_Lead is the target variable."
   ]
  },
  {
   "cell_type": "code",
   "execution_count": 21,
   "metadata": {},
   "outputs": [
    {
     "data": {
      "text/html": [
       "<div>\n",
       "<style scoped>\n",
       "    .dataframe tbody tr th:only-of-type {\n",
       "        vertical-align: middle;\n",
       "    }\n",
       "\n",
       "    .dataframe tbody tr th {\n",
       "        vertical-align: top;\n",
       "    }\n",
       "\n",
       "    .dataframe thead th {\n",
       "        text-align: right;\n",
       "    }\n",
       "</style>\n",
       "<table border=\"1\" class=\"dataframe\">\n",
       "  <thead>\n",
       "    <tr style=\"text-align: right;\">\n",
       "      <th></th>\n",
       "      <th>Age</th>\n",
       "      <th>Vintage</th>\n",
       "      <th>Avg_Account_Balance</th>\n",
       "      <th>Is_Lead</th>\n",
       "    </tr>\n",
       "  </thead>\n",
       "  <tbody>\n",
       "    <tr>\n",
       "      <th>count</th>\n",
       "      <td>245725.000000</td>\n",
       "      <td>245725.000000</td>\n",
       "      <td>2.457250e+05</td>\n",
       "      <td>245725.000000</td>\n",
       "    </tr>\n",
       "    <tr>\n",
       "      <th>mean</th>\n",
       "      <td>43.856307</td>\n",
       "      <td>46.959141</td>\n",
       "      <td>1.128403e+06</td>\n",
       "      <td>0.237208</td>\n",
       "    </tr>\n",
       "    <tr>\n",
       "      <th>std</th>\n",
       "      <td>14.828672</td>\n",
       "      <td>32.353136</td>\n",
       "      <td>8.529364e+05</td>\n",
       "      <td>0.425372</td>\n",
       "    </tr>\n",
       "    <tr>\n",
       "      <th>min</th>\n",
       "      <td>23.000000</td>\n",
       "      <td>7.000000</td>\n",
       "      <td>2.079000e+04</td>\n",
       "      <td>0.000000</td>\n",
       "    </tr>\n",
       "    <tr>\n",
       "      <th>25%</th>\n",
       "      <td>30.000000</td>\n",
       "      <td>20.000000</td>\n",
       "      <td>6.043100e+05</td>\n",
       "      <td>0.000000</td>\n",
       "    </tr>\n",
       "    <tr>\n",
       "      <th>50%</th>\n",
       "      <td>43.000000</td>\n",
       "      <td>32.000000</td>\n",
       "      <td>8.946010e+05</td>\n",
       "      <td>0.000000</td>\n",
       "    </tr>\n",
       "    <tr>\n",
       "      <th>75%</th>\n",
       "      <td>54.000000</td>\n",
       "      <td>73.000000</td>\n",
       "      <td>1.366666e+06</td>\n",
       "      <td>0.000000</td>\n",
       "    </tr>\n",
       "    <tr>\n",
       "      <th>max</th>\n",
       "      <td>85.000000</td>\n",
       "      <td>135.000000</td>\n",
       "      <td>1.035201e+07</td>\n",
       "      <td>1.000000</td>\n",
       "    </tr>\n",
       "  </tbody>\n",
       "</table>\n",
       "</div>"
      ],
      "text/plain": [
       "                 Age        Vintage  Avg_Account_Balance        Is_Lead\n",
       "count  245725.000000  245725.000000         2.457250e+05  245725.000000\n",
       "mean       43.856307      46.959141         1.128403e+06       0.237208\n",
       "std        14.828672      32.353136         8.529364e+05       0.425372\n",
       "min        23.000000       7.000000         2.079000e+04       0.000000\n",
       "25%        30.000000      20.000000         6.043100e+05       0.000000\n",
       "50%        43.000000      32.000000         8.946010e+05       0.000000\n",
       "75%        54.000000      73.000000         1.366666e+06       0.000000\n",
       "max        85.000000     135.000000         1.035201e+07       1.000000"
      ]
     },
     "execution_count": 21,
     "metadata": {},
     "output_type": "execute_result"
    }
   ],
   "source": [
    "# Five point summary for numerical variables\n",
    "df_train.describe(exclude='object')\n",
    "\n",
    "# Minimum age of the customer is found to be 23yrs and maximum age is 85yrs"
   ]
  },
  {
   "cell_type": "code",
   "execution_count": 22,
   "metadata": {},
   "outputs": [
    {
     "data": {
      "text/html": [
       "<div>\n",
       "<style scoped>\n",
       "    .dataframe tbody tr th:only-of-type {\n",
       "        vertical-align: middle;\n",
       "    }\n",
       "\n",
       "    .dataframe tbody tr th {\n",
       "        vertical-align: top;\n",
       "    }\n",
       "\n",
       "    .dataframe thead th {\n",
       "        text-align: right;\n",
       "    }\n",
       "</style>\n",
       "<table border=\"1\" class=\"dataframe\">\n",
       "  <thead>\n",
       "    <tr style=\"text-align: right;\">\n",
       "      <th></th>\n",
       "      <th>ID</th>\n",
       "      <th>Gender</th>\n",
       "      <th>Region_Code</th>\n",
       "      <th>Occupation</th>\n",
       "      <th>Channel_Code</th>\n",
       "      <th>Credit_Product</th>\n",
       "      <th>Is_Active</th>\n",
       "    </tr>\n",
       "  </thead>\n",
       "  <tbody>\n",
       "    <tr>\n",
       "      <th>count</th>\n",
       "      <td>245725</td>\n",
       "      <td>245725</td>\n",
       "      <td>245725</td>\n",
       "      <td>245725</td>\n",
       "      <td>245725</td>\n",
       "      <td>216400</td>\n",
       "      <td>245725</td>\n",
       "    </tr>\n",
       "    <tr>\n",
       "      <th>unique</th>\n",
       "      <td>245725</td>\n",
       "      <td>2</td>\n",
       "      <td>35</td>\n",
       "      <td>4</td>\n",
       "      <td>4</td>\n",
       "      <td>2</td>\n",
       "      <td>2</td>\n",
       "    </tr>\n",
       "    <tr>\n",
       "      <th>top</th>\n",
       "      <td>PRNFLAUG</td>\n",
       "      <td>Male</td>\n",
       "      <td>RG268</td>\n",
       "      <td>Self_Employed</td>\n",
       "      <td>X1</td>\n",
       "      <td>No</td>\n",
       "      <td>No</td>\n",
       "    </tr>\n",
       "    <tr>\n",
       "      <th>freq</th>\n",
       "      <td>1</td>\n",
       "      <td>134197</td>\n",
       "      <td>35934</td>\n",
       "      <td>100886</td>\n",
       "      <td>103718</td>\n",
       "      <td>144357</td>\n",
       "      <td>150290</td>\n",
       "    </tr>\n",
       "  </tbody>\n",
       "</table>\n",
       "</div>"
      ],
      "text/plain": [
       "              ID  Gender Region_Code     Occupation Channel_Code  \\\n",
       "count     245725  245725      245725         245725       245725   \n",
       "unique    245725       2          35              4            4   \n",
       "top     PRNFLAUG    Male       RG268  Self_Employed           X1   \n",
       "freq           1  134197       35934         100886       103718   \n",
       "\n",
       "       Credit_Product Is_Active  \n",
       "count          216400    245725  \n",
       "unique              2         2  \n",
       "top                No        No  \n",
       "freq           144357    150290  "
      ]
     },
     "execution_count": 22,
     "metadata": {},
     "output_type": "execute_result"
    }
   ],
   "source": [
    "# Five point summary for categorical variables\n",
    "df_train.describe(include='object')"
   ]
  },
  {
   "cell_type": "markdown",
   "metadata": {},
   "source": [
    "# Univariant analysis"
   ]
  },
  {
   "cell_type": "code",
   "execution_count": 15,
   "metadata": {},
   "outputs": [
    {
     "data": {
      "image/png": "[encoded data removed]",
      "text/plain": [
       "<Figure size 432x360 with 1 Axes>"
      ]
     },
     "metadata": {
      "needs_background": "light"
     },
     "output_type": "display_data"
    }
   ],
   "source": [
    "# Count plot for gender variable\n",
    "plt.figure(figsize=(6,5))\n",
    "sns.countplot(df_train['Gender'])\n",
    "plt.show()\n",
    "\n",
    "# dataset consist of more male gender observations than female."
   ]
  },
  {
   "cell_type": "code",
   "execution_count": 23,
   "metadata": {},
   "outputs": [
    {
     "data": {
      "text/plain": [
       "array(['RG268', 'RG277', 'RG270', 'RG282', 'RG261', 'RG265', 'RG283',\n",
       "       'RG254', 'RG269', 'RG257', 'RG279', 'RG280', 'RG252', 'RG284',\n",
       "       'RG259', 'RG281', 'RG258', 'RG266', 'RG260', 'RG274', 'RG256',\n",
       "       'RG275', 'RG273', 'RG267', 'RG272', 'RG251', 'RG262', 'RG264',\n",
       "       'RG278', 'RG276', 'RG263', 'RG250', 'RG255', 'RG253', 'RG271'],\n",
       "      dtype=object)"
      ]
     },
     "execution_count": 23,
     "metadata": {},
     "output_type": "execute_result"
    }
   ],
   "source": [
    "# Unique region code names\n",
    "df_train['Region_Code'].unique()"
   ]
  },
  {
   "cell_type": "code",
   "execution_count": 25,
   "metadata": {},
   "outputs": [
    {
     "data": {
      "image/png": "[encoded data removed]",
      "text/plain": [
       "<Figure size 576x360 with 1 Axes>"
      ]
     },
     "metadata": {
      "needs_background": "light"
     },
     "output_type": "display_data"
    }
   ],
   "source": [
    "# distribution of age\n",
    "plt.figure(figsize=(8,5))\n",
    "sns.distplot(df_train['Age'])\n",
    "plt.show()\n",
    "\n",
    "# Age variable is right skewed.\n",
    "# between 26-28yrs and 46-49yrs most of the customers are seen"
   ]
  },
  {
   "cell_type": "code",
   "execution_count": 29,
   "metadata": {},
   "outputs": [
    {
     "data": {
      "image/png": "[encoded data removed]",
      "text/plain": [
       "<Figure size 576x360 with 1 Axes>"
      ]
     },
     "metadata": {
      "needs_background": "light"
     },
     "output_type": "display_data"
    }
   ],
   "source": [
    "# distribution of Vintage\n",
    "plt.figure(figsize=(8,5))\n",
    "sns.distplot(df_train['Vintage'])\n",
    "plt.show()\n",
    "\n",
    "# Vintage variable is right skewed."
   ]
  },
  {
   "cell_type": "code",
   "execution_count": 27,
   "metadata": {},
   "outputs": [
    {
     "data": {
      "image/png": "[encoded data removed]",
      "text/plain": [
       "<Figure size 720x360 with 1 Axes>"
      ]
     },
     "metadata": {
      "needs_background": "light"
     },
     "output_type": "display_data"
    }
   ],
   "source": [
    "# Occupation of customers\n",
    "plt.figure(figsize=(10,5))\n",
    "sns.countplot(df_train['Occupation'])\n",
    "plt.show()\n",
    "\n",
    "# Most of the customers are self employed and very least is Entrepreneur"
   ]
  },
  {
   "cell_type": "code",
   "execution_count": 31,
   "metadata": {},
   "outputs": [
    {
     "data": {
      "text/plain": [
       "array(['X3', 'X1', 'X2', 'X4'], dtype=object)"
      ]
     },
     "execution_count": 31,
     "metadata": {},
     "output_type": "execute_result"
    }
   ],
   "source": [
    "# Unique channel code\n",
    "df['Channel_Code'].unique()\n",
    "\n",
    "# There are 4 differnt channel code present in the dataset"
   ]
  },
  {
   "cell_type": "code",
   "execution_count": 34,
   "metadata": {},
   "outputs": [
    {
     "data": {
      "image/png": "[encoded data removed]",
      "text/plain": [
       "<Figure size 720x360 with 1 Axes>"
      ]
     },
     "metadata": {
      "needs_background": "light"
     },
     "output_type": "display_data"
    }
   ],
   "source": [
    "# credit product of customers\n",
    "plt.figure(figsize=(10,5))\n",
    "sns.countplot(df_train['Credit_Product'])\n",
    "plt.show()\n",
    "\n",
    "# Most of the customers do not have credit card products"
   ]
  },
  {
   "cell_type": "code",
   "execution_count": 35,
   "metadata": {},
   "outputs": [
    {
     "data": {
      "image/png": "[encoded data removed]",
      "text/plain": [
       "<Figure size 720x360 with 1 Axes>"
      ]
     },
     "metadata": {
      "needs_background": "light"
     },
     "output_type": "display_data"
    }
   ],
   "source": [
    "# customers status\n",
    "plt.figure(figsize=(10,5))\n",
    "sns.countplot(df_train['Is_Active'])\n",
    "plt.show()\n",
    "\n",
    "# Most of the customers are not active in last 3months"
   ]
  },
  {
   "cell_type": "code",
   "execution_count": 36,
   "metadata": {},
   "outputs": [
    {
     "data": {
      "image/png": "[encoded data removed]",
      "text/plain": [
       "<Figure size 720x360 with 1 Axes>"
      ]
     },
     "metadata": {
      "needs_background": "light"
     },
     "output_type": "display_data"
    }
   ],
   "source": [
    "# customers interest in purchase of credit card product\n",
    "plt.figure(figsize=(10,5))\n",
    "sns.countplot(df_train['Is_Lead'])\n",
    "plt.show()\n",
    "\n",
    "# Very few customers are showing interest in buying credit card product"
   ]
  },
  {
   "cell_type": "markdown",
   "metadata": {},
   "source": [
    "# Bivariant and multivariant analysis"
   ]
  },
  {
   "cell_type": "code",
   "execution_count": 68,
   "metadata": {},
   "outputs": [
    {
     "data": {
      "text/plain": [
       "<Figure size 1080x360 with 0 Axes>"
      ]
     },
     "metadata": {},
     "output_type": "display_data"
    },
    {
     "data": {
      "image/png": "[encoded data removed]",
      "text/plain": [
       "<Figure size 432x288 with 1 Axes>"
      ]
     },
     "metadata": {
      "needs_background": "light"
     },
     "output_type": "display_data"
    }
   ],
   "source": [
    "# Gender with target\n",
    "plt.figure(figsize=(15,5))\n",
    "pd.crosstab(df_train['Gender'], df_train['Is_Lead']).plot(kind='bar')\n",
    "plt.show()\n",
    "\n",
    "# Males are more interested towards buying credit card than females"
   ]
  },
  {
   "cell_type": "code",
   "execution_count": 69,
   "metadata": {},
   "outputs": [
    {
     "data": {
      "text/html": [
       "<div>\n",
       "<style scoped>\n",
       "    .dataframe tbody tr th:only-of-type {\n",
       "        vertical-align: middle;\n",
       "    }\n",
       "\n",
       "    .dataframe tbody tr th {\n",
       "        vertical-align: top;\n",
       "    }\n",
       "\n",
       "    .dataframe thead th {\n",
       "        text-align: right;\n",
       "    }\n",
       "</style>\n",
       "<table border=\"1\" class=\"dataframe\">\n",
       "  <thead>\n",
       "    <tr style=\"text-align: right;\">\n",
       "      <th></th>\n",
       "      <th>Age</th>\n",
       "      <th>Vintage</th>\n",
       "      <th>Avg_Account_Balance</th>\n",
       "    </tr>\n",
       "    <tr>\n",
       "      <th>Is_Lead</th>\n",
       "      <th></th>\n",
       "      <th></th>\n",
       "      <th></th>\n",
       "    </tr>\n",
       "  </thead>\n",
       "  <tbody>\n",
       "    <tr>\n",
       "      <th>0</th>\n",
       "      <td>41.947662</td>\n",
       "      <td>41.913923</td>\n",
       "      <td>1.103018e+06</td>\n",
       "    </tr>\n",
       "    <tr>\n",
       "      <th>1</th>\n",
       "      <td>49.993944</td>\n",
       "      <td>63.183074</td>\n",
       "      <td>1.210034e+06</td>\n",
       "    </tr>\n",
       "  </tbody>\n",
       "</table>\n",
       "</div>"
      ],
      "text/plain": [
       "               Age    Vintage  Avg_Account_Balance\n",
       "Is_Lead                                           \n",
       "0        41.947662  41.913923         1.103018e+06\n",
       "1        49.993944  63.183074         1.210034e+06"
      ]
     },
     "execution_count": 69,
     "metadata": {},
     "output_type": "execute_result"
    }
   ],
   "source": [
    "df_train.groupby(by=['Is_Lead']).mean()\n",
    "\n",
    "# customers with average age of 50yrs interested in buying more credit products\n",
    "# Customers with more account balance are interested in buying product."
   ]
  },
  {
   "cell_type": "code",
   "execution_count": 80,
   "metadata": {},
   "outputs": [
    {
     "data": {
      "image/png": "[encoded data removed]",
      "text/plain": [
       "<Figure size 1296x360 with 2 Axes>"
      ]
     },
     "metadata": {
      "needs_background": "light"
     },
     "output_type": "display_data"
    }
   ],
   "source": [
    "# Age v/s target\n",
    "fig,axes  = plt.subplots(1,2,figsize = (18,5))\n",
    "\n",
    "ax1 = plt.subplot(1, 2, 1)\n",
    "df_train[df_train['Is_Lead'] ==1]['Age'].plot(kind='kde', ax=ax1)\n",
    "plt.title('Dist plot of age for customers is interested', fontsize=15)\n",
    "\n",
    "ax2 = plt.subplot(1, 2, 2)\n",
    "df_train[df_train['Is_Lead'] ==0]['Age'].plot(kind='kde', ax=ax2)\n",
    "plt.title('Dist plot of age for customer not interested', fontsize=15)\n",
    "plt.show()\n",
    "\n",
    "# Customers interested in buying credit product is almost normally distributed.\n",
    "# Customers not interested in buying credit product is alomost right skewed."
   ]
  },
  {
   "cell_type": "code",
   "execution_count": 84,
   "metadata": {},
   "outputs": [
    {
     "data": {
      "image/png": "[encoded data removed]",
      "text/plain": [
       "<Figure size 1296x360 with 2 Axes>"
      ]
     },
     "metadata": {
      "needs_background": "light"
     },
     "output_type": "display_data"
    }
   ],
   "source": [
    "# Avg_Account_Balance v/s target\n",
    "fig,axes  = plt.subplots(1,2,figsize = (18,5))\n",
    "\n",
    "ax1 = plt.subplot(1, 2, 1)\n",
    "df_train[df_train['Is_Lead'] ==1]['Avg_Account_Balance'].plot(kind='kde', ax=ax1)\n",
    "plt.title('Dist plot of Avg_Account_Balance for customers is interested', fontsize=12)\n",
    "\n",
    "ax2 = plt.subplot(1, 2, 2)\n",
    "df_train[df_train['Is_Lead'] ==0]['Avg_Account_Balance'].plot(kind='kde', ax=ax2)\n",
    "plt.title('Dist plot of Avg_Account_Balance for customer not interested', fontsize=12)\n",
    "plt.show()\n",
    "\n",
    "\n",
    "# Both plots are showing right skewed distribution.\n",
    "# hence Avg_Account_Balance not helping in predicting target"
   ]
  },
  {
   "cell_type": "code",
   "execution_count": 85,
   "metadata": {},
   "outputs": [
    {
     "data": {
      "image/png": "[encoded data removed]",
      "text/plain": [
       "<Figure size 1296x360 with 2 Axes>"
      ]
     },
     "metadata": {
      "needs_background": "light"
     },
     "output_type": "display_data"
    }
   ],
   "source": [
    "# Vintage v/s target\n",
    "fig,axes  = plt.subplots(1,2,figsize = (18,5))\n",
    "\n",
    "ax1 = plt.subplot(1, 2, 1)\n",
    "df_train[df_train['Is_Lead'] ==1]['Vintage'].plot(kind='kde', ax=ax1)\n",
    "plt.title('Dist plot of Vintage for customers is interested', fontsize=12)\n",
    "\n",
    "ax2 = plt.subplot(1, 2, 2)\n",
    "df_train[df_train['Is_Lead'] ==0]['Vintage'].plot(kind='kde', ax=ax2)\n",
    "plt.title('Dist plot of Vintage for customer not interested', fontsize=12)\n",
    "plt.show()\n"
   ]
  },
  {
   "cell_type": "code",
   "execution_count": 90,
   "metadata": {},
   "outputs": [
    {
     "data": {
      "text/plain": [
       "<Figure size 1800x432 with 0 Axes>"
      ]
     },
     "metadata": {},
     "output_type": "display_data"
    },
    {
     "data": {
      "image/png": "[encoded data removed]",
      "text/plain": [
       "<Figure size 432x288 with 1 Axes>"
      ]
     },
     "metadata": {
      "needs_background": "light"
     },
     "output_type": "display_data"
    }
   ],
   "source": [
    "# Occupation with target\n",
    "plt.figure(figsize=(25,6))\n",
    "pd.crosstab(df_train['Occupation'], df_train['Is_Lead']).plot(kind='bar')\n",
    "plt.legend()\n",
    "plt.show()\n",
    "\n",
    "# Entrepreneur are using more credit products among entrepreneur group.\n",
    "# In other occupations, most of the customers are not interested in buying credit products."
   ]
  },
  {
   "cell_type": "code",
   "execution_count": 91,
   "metadata": {},
   "outputs": [
    {
     "data": {
      "text/plain": [
       "<Figure size 1800x432 with 0 Axes>"
      ]
     },
     "metadata": {},
     "output_type": "display_data"
    },
    {
     "data": {
      "image/png": "[encoded data removed]",
      "text/plain": [
       "<Figure size 432x288 with 1 Axes>"
      ]
     },
     "metadata": {
      "needs_background": "light"
     },
     "output_type": "display_data"
    }
   ],
   "source": [
    "# Is_Active with target\n",
    "plt.figure(figsize=(25,6))\n",
    "pd.crosstab(df_train['Is_Active'], df_train['Is_Lead']).plot(kind='bar')\n",
    "plt.legend()\n",
    "plt.show()\n",
    "\n",
    "# In both active and not active customers, most of them are not interested in buying credit products"
   ]
  },
  {
   "cell_type": "code",
   "execution_count": 95,
   "metadata": {},
   "outputs": [
    {
     "data": {
      "image/png": "[encoded data removed]",
      "text/plain": [
       "<Figure size 720x432 with 2 Axes>"
      ]
     },
     "metadata": {
      "needs_background": "light"
     },
     "output_type": "display_data"
    }
   ],
   "source": [
    "# Heat map for correlation\n",
    "plt.figure(figsize=(10,6))\n",
    "sns.heatmap(df_train.corr(), annot=True)\n",
    "plt.show()\n",
    "\n",
    "# Both vintage and age variable are positive correlation with r=0.63"
   ]
  },
  {
   "cell_type": "code",
   "execution_count": 32,
   "metadata": {},
   "outputs": [
    {
     "data": {
      "text/plain": [
       "ID                      0.000000\n",
       "Gender                  0.000000\n",
       "Age                     0.000000\n",
       "Region_Code             0.000000\n",
       "Occupation              0.000000\n",
       "Channel_Code            0.000000\n",
       "Vintage                 0.000000\n",
       "Credit_Product         11.934073\n",
       "Avg_Account_Balance     0.000000\n",
       "Is_Active               0.000000\n",
       "Is_Lead                 0.000000\n",
       "dtype: float64"
      ]
     },
     "execution_count": 32,
     "metadata": {},
     "output_type": "execute_result"
    }
   ],
   "source": [
    "# Null values treatement\n",
    "df_train.isnull().sum() / df_train.shape[0] * 100\n",
    "\n",
    "# Credit_Product variable have almost 12% null valuesdf"
   ]
  },
  {
   "cell_type": "code",
   "execution_count": 34,
   "metadata": {},
   "outputs": [
    {
     "data": {
      "text/plain": [
       "0"
      ]
     },
     "execution_count": 34,
     "metadata": {},
     "output_type": "execute_result"
    }
   ],
   "source": [
    "df_train['Credit_Product'].fillna(method='ffill', inplace=True)\n",
    "df_train.isnull().sum().sum()"
   ]
  },
  {
   "cell_type": "code",
   "execution_count": 35,
   "metadata": {},
   "outputs": [
    {
     "data": {
      "image/png": "[encoded data removed]",
      "text/plain": [
       "<Figure size 1008x360 with 1 Axes>"
      ]
     },
     "metadata": {
      "needs_background": "light"
     },
     "output_type": "display_data"
    }
   ],
   "source": [
    "# Outliers in the dataset\n",
    "plt.figure(figsize=(14,5))\n",
    "df_train.boxplot()\n",
    "plt.show()"
   ]
  },
  {
   "cell_type": "code",
   "execution_count": 28,
   "metadata": {},
   "outputs": [
    {
     "data": {
      "text/html": [
       "<div>\n",
       "<style scoped>\n",
       "    .dataframe tbody tr th:only-of-type {\n",
       "        vertical-align: middle;\n",
       "    }\n",
       "\n",
       "    .dataframe tbody tr th {\n",
       "        vertical-align: top;\n",
       "    }\n",
       "\n",
       "    .dataframe thead th {\n",
       "        text-align: right;\n",
       "    }\n",
       "</style>\n",
       "<table border=\"1\" class=\"dataframe\">\n",
       "  <thead>\n",
       "    <tr style=\"text-align: right;\">\n",
       "      <th></th>\n",
       "      <th>ID</th>\n",
       "      <th>Gender</th>\n",
       "      <th>Age</th>\n",
       "      <th>Region_Code</th>\n",
       "      <th>Occupation</th>\n",
       "      <th>Channel_Code</th>\n",
       "      <th>Vintage</th>\n",
       "      <th>Credit_Product</th>\n",
       "      <th>Avg_Account_Balance</th>\n",
       "      <th>Is_Active</th>\n",
       "      <th>Is_Lead</th>\n",
       "    </tr>\n",
       "  </thead>\n",
       "  <tbody>\n",
       "    <tr>\n",
       "      <th>35</th>\n",
       "      <td>PML5FCBV</td>\n",
       "      <td>Female</td>\n",
       "      <td>29</td>\n",
       "      <td>RG284</td>\n",
       "      <td>Salaried</td>\n",
       "      <td>X1</td>\n",
       "      <td>26</td>\n",
       "      <td>No</td>\n",
       "      <td>2521592</td>\n",
       "      <td>No</td>\n",
       "      <td>0</td>\n",
       "    </tr>\n",
       "    <tr>\n",
       "      <th>71</th>\n",
       "      <td>HXSR7NXQ</td>\n",
       "      <td>Male</td>\n",
       "      <td>27</td>\n",
       "      <td>RG254</td>\n",
       "      <td>Salaried</td>\n",
       "      <td>X1</td>\n",
       "      <td>13</td>\n",
       "      <td>No</td>\n",
       "      <td>2824468</td>\n",
       "      <td>No</td>\n",
       "      <td>0</td>\n",
       "    </tr>\n",
       "    <tr>\n",
       "      <th>113</th>\n",
       "      <td>JAS9QVTW</td>\n",
       "      <td>Female</td>\n",
       "      <td>27</td>\n",
       "      <td>RG268</td>\n",
       "      <td>Salaried</td>\n",
       "      <td>X1</td>\n",
       "      <td>21</td>\n",
       "      <td>No</td>\n",
       "      <td>6278683</td>\n",
       "      <td>Yes</td>\n",
       "      <td>0</td>\n",
       "    </tr>\n",
       "    <tr>\n",
       "      <th>184</th>\n",
       "      <td>HW8HSYK3</td>\n",
       "      <td>Female</td>\n",
       "      <td>74</td>\n",
       "      <td>RG268</td>\n",
       "      <td>Other</td>\n",
       "      <td>X3</td>\n",
       "      <td>33</td>\n",
       "      <td>No</td>\n",
       "      <td>5878049</td>\n",
       "      <td>Yes</td>\n",
       "      <td>0</td>\n",
       "    </tr>\n",
       "    <tr>\n",
       "      <th>205</th>\n",
       "      <td>6OB4KY6J</td>\n",
       "      <td>Male</td>\n",
       "      <td>33</td>\n",
       "      <td>RG268</td>\n",
       "      <td>Other</td>\n",
       "      <td>X1</td>\n",
       "      <td>25</td>\n",
       "      <td>No</td>\n",
       "      <td>2952343</td>\n",
       "      <td>No</td>\n",
       "      <td>0</td>\n",
       "    </tr>\n",
       "    <tr>\n",
       "      <th>...</th>\n",
       "      <td>...</td>\n",
       "      <td>...</td>\n",
       "      <td>...</td>\n",
       "      <td>...</td>\n",
       "      <td>...</td>\n",
       "      <td>...</td>\n",
       "      <td>...</td>\n",
       "      <td>...</td>\n",
       "      <td>...</td>\n",
       "      <td>...</td>\n",
       "      <td>...</td>\n",
       "    </tr>\n",
       "    <tr>\n",
       "      <th>245638</th>\n",
       "      <td>GEPQVQKB</td>\n",
       "      <td>Male</td>\n",
       "      <td>48</td>\n",
       "      <td>RG283</td>\n",
       "      <td>Self_Employed</td>\n",
       "      <td>X2</td>\n",
       "      <td>31</td>\n",
       "      <td>No</td>\n",
       "      <td>5396737</td>\n",
       "      <td>No</td>\n",
       "      <td>0</td>\n",
       "    </tr>\n",
       "    <tr>\n",
       "      <th>245653</th>\n",
       "      <td>UKT5GX45</td>\n",
       "      <td>Male</td>\n",
       "      <td>46</td>\n",
       "      <td>RG257</td>\n",
       "      <td>Self_Employed</td>\n",
       "      <td>X1</td>\n",
       "      <td>26</td>\n",
       "      <td>Yes</td>\n",
       "      <td>6900312</td>\n",
       "      <td>No</td>\n",
       "      <td>1</td>\n",
       "    </tr>\n",
       "    <tr>\n",
       "      <th>245661</th>\n",
       "      <td>ASYCDDTY</td>\n",
       "      <td>Female</td>\n",
       "      <td>30</td>\n",
       "      <td>RG276</td>\n",
       "      <td>Salaried</td>\n",
       "      <td>X1</td>\n",
       "      <td>15</td>\n",
       "      <td>No</td>\n",
       "      <td>3566719</td>\n",
       "      <td>Yes</td>\n",
       "      <td>0</td>\n",
       "    </tr>\n",
       "    <tr>\n",
       "      <th>245676</th>\n",
       "      <td>2AYXS3T3</td>\n",
       "      <td>Male</td>\n",
       "      <td>35</td>\n",
       "      <td>RG253</td>\n",
       "      <td>Self_Employed</td>\n",
       "      <td>X2</td>\n",
       "      <td>61</td>\n",
       "      <td>No</td>\n",
       "      <td>2769973</td>\n",
       "      <td>Yes</td>\n",
       "      <td>0</td>\n",
       "    </tr>\n",
       "    <tr>\n",
       "      <th>245701</th>\n",
       "      <td>BG6UHJTS</td>\n",
       "      <td>Male</td>\n",
       "      <td>32</td>\n",
       "      <td>RG277</td>\n",
       "      <td>Salaried</td>\n",
       "      <td>X1</td>\n",
       "      <td>13</td>\n",
       "      <td>Yes</td>\n",
       "      <td>9491986</td>\n",
       "      <td>No</td>\n",
       "      <td>0</td>\n",
       "    </tr>\n",
       "  </tbody>\n",
       "</table>\n",
       "<p>14612 rows × 11 columns</p>\n",
       "</div>"
      ],
      "text/plain": [
       "              ID  Gender  Age Region_Code     Occupation Channel_Code  \\\n",
       "35      PML5FCBV  Female   29       RG284       Salaried           X1   \n",
       "71      HXSR7NXQ    Male   27       RG254       Salaried           X1   \n",
       "113     JAS9QVTW  Female   27       RG268       Salaried           X1   \n",
       "184     HW8HSYK3  Female   74       RG268          Other           X3   \n",
       "205     6OB4KY6J    Male   33       RG268          Other           X1   \n",
       "...          ...     ...  ...         ...            ...          ...   \n",
       "245638  GEPQVQKB    Male   48       RG283  Self_Employed           X2   \n",
       "245653  UKT5GX45    Male   46       RG257  Self_Employed           X1   \n",
       "245661  ASYCDDTY  Female   30       RG276       Salaried           X1   \n",
       "245676  2AYXS3T3    Male   35       RG253  Self_Employed           X2   \n",
       "245701  BG6UHJTS    Male   32       RG277       Salaried           X1   \n",
       "\n",
       "        Vintage Credit_Product  Avg_Account_Balance Is_Active  Is_Lead  \n",
       "35           26             No              2521592        No        0  \n",
       "71           13             No              2824468        No        0  \n",
       "113          21             No              6278683       Yes        0  \n",
       "184          33             No              5878049       Yes        0  \n",
       "205          25             No              2952343        No        0  \n",
       "...         ...            ...                  ...       ...      ...  \n",
       "245638       31             No              5396737        No        0  \n",
       "245653       26            Yes              6900312        No        1  \n",
       "245661       15             No              3566719       Yes        0  \n",
       "245676       61             No              2769973       Yes        0  \n",
       "245701       13            Yes              9491986        No        0  \n",
       "\n",
       "[14612 rows x 11 columns]"
      ]
     },
     "execution_count": 28,
     "metadata": {},
     "output_type": "execute_result"
    }
   ],
   "source": [
    "# Outlier detection using IQR method and treatment\n",
    "q1 = df_train['Avg_Account_Balance'].quantile(0.25)\n",
    "q3 = df_train['Avg_Account_Balance'].quantile(0.75)\n",
    "IQR = q3 - q1\n",
    "\n",
    "upper_limit = q3 + 1.5*IQR\n",
    "lower_limit = q1 - 1.5*IQR\n",
    "\n",
    "# Presence of outliers\n",
    "df_train[(df_train['Avg_Account_Balance'] > upper_limit) | (df_train['Avg_Account_Balance'] < lower_limit)]\n",
    "\n",
    "# There is almost 6% of outliers are present in the dataset.\n",
    "# To avoid data loss, we are not removing it and transforming it using log transformation."
   ]
  },
  {
   "cell_type": "code",
   "execution_count": 77,
   "metadata": {},
   "outputs": [],
   "source": [
    "# Transformation using log method\n",
    "df_train['Avg_Account_Balance'] = np.log(df_train['Avg_Account_Balance'])"
   ]
  },
  {
   "cell_type": "code",
   "execution_count": 78,
   "metadata": {},
   "outputs": [
    {
     "data": {
      "image/png": "[encoded data removed]",
      "text/plain": [
       "<Figure size 1008x360 with 1 Axes>"
      ]
     },
     "metadata": {
      "needs_background": "light"
     },
     "output_type": "display_data"
    }
   ],
   "source": [
    "# Outliers in the dataset\n",
    "plt.figure(figsize=(14,5))\n",
    "df_train.boxplot()\n",
    "plt.show()"
   ]
  },
  {
   "cell_type": "code",
   "execution_count": 79,
   "metadata": {},
   "outputs": [],
   "source": [
    "# Drop insignificant variables like ID and Region code which will not help in improving model performance\n",
    "df_train.drop(columns=['ID', 'Region_Code'], inplace=True)"
   ]
  },
  {
   "cell_type": "code",
   "execution_count": 80,
   "metadata": {},
   "outputs": [],
   "source": [
    "# Convert all categorical columns into numerical\n",
    "df_train = pd.get_dummies(df_train.drop('Is_Active', axis=1), drop_first=True)"
   ]
  },
  {
   "cell_type": "markdown",
   "metadata": {},
   "source": [
    "Converting train set as modified train after EDA\n",
    "\n",
    "df_train.to_csv('df_train.csv')"
   ]
  },
  {
   "cell_type": "markdown",
   "metadata": {},
   "source": [
    "# EDA for test set"
   ]
  },
  {
   "cell_type": "code",
   "execution_count": 83,
   "metadata": {},
   "outputs": [
    {
     "data": {
      "text/html": [
       "<div>\n",
       "<style scoped>\n",
       "    .dataframe tbody tr th:only-of-type {\n",
       "        vertical-align: middle;\n",
       "    }\n",
       "\n",
       "    .dataframe tbody tr th {\n",
       "        vertical-align: top;\n",
       "    }\n",
       "\n",
       "    .dataframe thead th {\n",
       "        text-align: right;\n",
       "    }\n",
       "</style>\n",
       "<table border=\"1\" class=\"dataframe\">\n",
       "  <thead>\n",
       "    <tr style=\"text-align: right;\">\n",
       "      <th></th>\n",
       "      <th>ID</th>\n",
       "      <th>Gender</th>\n",
       "      <th>Age</th>\n",
       "      <th>Region_Code</th>\n",
       "      <th>Occupation</th>\n",
       "      <th>Channel_Code</th>\n",
       "      <th>Vintage</th>\n",
       "      <th>Credit_Product</th>\n",
       "      <th>Avg_Account_Balance</th>\n",
       "      <th>Is_Active</th>\n",
       "    </tr>\n",
       "  </thead>\n",
       "  <tbody>\n",
       "    <tr>\n",
       "      <th>0</th>\n",
       "      <td>VBENBARO</td>\n",
       "      <td>Male</td>\n",
       "      <td>29</td>\n",
       "      <td>RG254</td>\n",
       "      <td>Other</td>\n",
       "      <td>X1</td>\n",
       "      <td>25</td>\n",
       "      <td>Yes</td>\n",
       "      <td>742366</td>\n",
       "      <td>No</td>\n",
       "    </tr>\n",
       "    <tr>\n",
       "      <th>1</th>\n",
       "      <td>CCMEWNKY</td>\n",
       "      <td>Male</td>\n",
       "      <td>43</td>\n",
       "      <td>RG268</td>\n",
       "      <td>Other</td>\n",
       "      <td>X2</td>\n",
       "      <td>49</td>\n",
       "      <td>NaN</td>\n",
       "      <td>925537</td>\n",
       "      <td>No</td>\n",
       "    </tr>\n",
       "    <tr>\n",
       "      <th>2</th>\n",
       "      <td>VK3KGA9M</td>\n",
       "      <td>Male</td>\n",
       "      <td>31</td>\n",
       "      <td>RG270</td>\n",
       "      <td>Salaried</td>\n",
       "      <td>X1</td>\n",
       "      <td>14</td>\n",
       "      <td>No</td>\n",
       "      <td>215949</td>\n",
       "      <td>No</td>\n",
       "    </tr>\n",
       "    <tr>\n",
       "      <th>3</th>\n",
       "      <td>TT8RPZVC</td>\n",
       "      <td>Male</td>\n",
       "      <td>29</td>\n",
       "      <td>RG272</td>\n",
       "      <td>Other</td>\n",
       "      <td>X1</td>\n",
       "      <td>33</td>\n",
       "      <td>No</td>\n",
       "      <td>868070</td>\n",
       "      <td>No</td>\n",
       "    </tr>\n",
       "    <tr>\n",
       "      <th>4</th>\n",
       "      <td>SHQZEYTZ</td>\n",
       "      <td>Female</td>\n",
       "      <td>29</td>\n",
       "      <td>RG270</td>\n",
       "      <td>Other</td>\n",
       "      <td>X1</td>\n",
       "      <td>19</td>\n",
       "      <td>No</td>\n",
       "      <td>657087</td>\n",
       "      <td>No</td>\n",
       "    </tr>\n",
       "  </tbody>\n",
       "</table>\n",
       "</div>"
      ],
      "text/plain": [
       "         ID  Gender  Age Region_Code Occupation Channel_Code  Vintage  \\\n",
       "0  VBENBARO    Male   29       RG254      Other           X1       25   \n",
       "1  CCMEWNKY    Male   43       RG268      Other           X2       49   \n",
       "2  VK3KGA9M    Male   31       RG270   Salaried           X1       14   \n",
       "3  TT8RPZVC    Male   29       RG272      Other           X1       33   \n",
       "4  SHQZEYTZ  Female   29       RG270      Other           X1       19   \n",
       "\n",
       "  Credit_Product  Avg_Account_Balance Is_Active  \n",
       "0            Yes               742366        No  \n",
       "1            NaN               925537        No  \n",
       "2             No               215949        No  \n",
       "3             No               868070        No  \n",
       "4             No               657087        No  "
      ]
     },
     "execution_count": 83,
     "metadata": {},
     "output_type": "execute_result"
    }
   ],
   "source": [
    "# Read the test data\n",
    "df_test = pd.read_csv('test_mSzZ8RL.csv')\n",
    "df_test.head()"
   ]
  },
  {
   "cell_type": "code",
   "execution_count": 84,
   "metadata": {},
   "outputs": [
    {
     "data": {
      "text/plain": [
       "0"
      ]
     },
     "execution_count": 84,
     "metadata": {},
     "output_type": "execute_result"
    }
   ],
   "source": [
    "# Performing all the operation did for train set\n",
    "# Null value imputation\n",
    "df_test['Credit_Product'].fillna(method='ffill', inplace=True)\n",
    "df_test.isnull().sum().sum()"
   ]
  },
  {
   "cell_type": "code",
   "execution_count": 85,
   "metadata": {},
   "outputs": [],
   "source": [
    "# Transforming Avg_Account_Balance using log transformation\n",
    "df_test['Avg_Account_Balance'] = np.log(df_test['Avg_Account_Balance'])"
   ]
  },
  {
   "cell_type": "code",
   "execution_count": 86,
   "metadata": {},
   "outputs": [],
   "source": [
    "# Drop insignificant variables like ID and Region code which will not help in improving model performance\n",
    "df_test.drop(columns=['ID', 'Region_Code'], inplace=True)"
   ]
  },
  {
   "cell_type": "code",
   "execution_count": 87,
   "metadata": {},
   "outputs": [],
   "source": [
    "# Convert all categorical columns into numerical\n",
    "df_test = pd.get_dummies(df_test.drop('Is_Active', axis=1), drop_first=True)"
   ]
  },
  {
   "cell_type": "markdown",
   "metadata": {},
   "source": [
    "Converting train set as modified train after EDA\n",
    "\n",
    "df_test.to_csv('df_test.csv')"
   ]
  },
  {
   "cell_type": "markdown",
   "metadata": {},
   "source": [
    "# Model building"
   ]
  },
  {
   "cell_type": "code",
   "execution_count": 119,
   "metadata": {},
   "outputs": [],
   "source": [
    "from sklearn.model_selection import train_test_split, RandomizedSearchCV\n",
    "from sklearn.linear_model import LogisticRegression\n",
    "from sklearn.ensemble import RandomForestClassifier, GradientBoostingClassifier\n",
    "from sklearn.metrics import accuracy_score, roc_auc_score, classification_report, confusion_matrix\n",
    "import lightgbm as lgb\n",
    "import xgboost as xgb\n",
    "from scipy.stats import randint as sp_randint\n"
   ]
  },
  {
   "cell_type": "code",
   "execution_count": 93,
   "metadata": {},
   "outputs": [],
   "source": [
    "# Lets consider train set for splitting data into train and test as 70:30 ratio\n",
    "x = df_train.drop('Is_Lead', axis=1)\n",
    "y = df_train['Is_Lead']\n",
    "\n",
    "x_train, x_test, y_train, y_test = train_test_split(x, y, test_size=0.3, random_state=42)"
   ]
  },
  {
   "cell_type": "markdown",
   "metadata": {},
   "source": [
    "# Logisic regresion"
   ]
  },
  {
   "cell_type": "code",
   "execution_count": 108,
   "metadata": {},
   "outputs": [
    {
     "name": "stdout",
     "output_type": "stream",
     "text": [
      "ROC score for train is : 0.7325202209291113\n",
      "Classification report for train:\n",
      "\n",
      "              precision    recall  f1-score   support\n",
      "\n",
      "           0       0.78      0.98      0.87    131177\n",
      "           1       0.66      0.12      0.20     40830\n",
      "\n",
      "    accuracy                           0.78    172007\n",
      "   macro avg       0.72      0.55      0.53    172007\n",
      "weighted avg       0.75      0.78      0.71    172007\n",
      "\n",
      "[[128674   2503]\n",
      " [ 36045   4785]]\n",
      "ROC score for test is : 0.7302239711807246\n",
      "Classification report for test :\n",
      "\n",
      "              precision    recall  f1-score   support\n",
      "\n",
      "           0       0.78      0.98      0.87     56260\n",
      "           1       0.64      0.11      0.19     17458\n",
      "\n",
      "    accuracy                           0.78     73718\n",
      "   macro avg       0.71      0.55      0.53     73718\n",
      "weighted avg       0.75      0.78      0.71     73718\n",
      "\n",
      "[[55162  1098]\n",
      " [15474  1984]]\n"
     ]
    }
   ],
   "source": [
    "loc = LogisticRegression(solver='liblinear')\n",
    "loc.fit(x_train, y_train)\n",
    "\n",
    "y_train_pred = loc.predict(x_train)\n",
    "y_train_prob = loc.predict_proba(x_train)[:, 1]\n",
    "\n",
    "print('ROC score for train is :', roc_auc_score(y_train, y_train_prob))\n",
    "print('Classification report for train:\\n')\n",
    "print(classification_report(y_train, y_train_pred))\n",
    "print(confusion_matrix(y_train, y_train_pred))\n",
    "\n",
    "y_test_pred = loc.predict(x_test)\n",
    "y_test_prob = loc.predict_proba(x_test)[:, 1]\n",
    "\n",
    "print('ROC score for test is :', roc_auc_score(y_test, y_test_prob))\n",
    "print('Classification report for test :\\n')\n",
    "print(classification_report(y_test, y_test_pred))\n",
    "print(confusion_matrix(y_test, y_test_pred))\n",
    "\n",
    "# Model is performing good but recall score is too less due to class imbalance"
   ]
  },
  {
   "cell_type": "code",
   "execution_count": 116,
   "metadata": {},
   "outputs": [],
   "source": [
    "# Treating class im-balance using SMOTE\n",
    "from imblearn.over_sampling import SMOTE\n",
    "sm = SMOTE(sampling_strategy='minority')\n",
    "\n",
    "x_train, y_train = sm.fit_resample(x_train, y_train)"
   ]
  },
  {
   "cell_type": "code",
   "execution_count": 117,
   "metadata": {},
   "outputs": [
    {
     "name": "stdout",
     "output_type": "stream",
     "text": [
      "ROC score for train is : 0.7247295887185758\n",
      "Classification report for train:\n",
      "\n",
      "              precision    recall  f1-score   support\n",
      "\n",
      "           0       0.66      0.63      0.65    131177\n",
      "           1       0.65      0.68      0.66    131177\n",
      "\n",
      "    accuracy                           0.65    262354\n",
      "   macro avg       0.65      0.65      0.65    262354\n",
      "weighted avg       0.65      0.65      0.65    262354\n",
      "\n",
      "[[82826 48351]\n",
      " [42628 88549]]\n",
      "ROC score for test is : 0.7265043152471523\n",
      "Classification report for test :\n",
      "\n",
      "              precision    recall  f1-score   support\n",
      "\n",
      "           0       0.87      0.63      0.73     56260\n",
      "           1       0.37      0.69      0.48     17458\n",
      "\n",
      "    accuracy                           0.64     73718\n",
      "   macro avg       0.62      0.66      0.60     73718\n",
      "weighted avg       0.75      0.64      0.67     73718\n",
      "\n",
      "[[35570 20690]\n",
      " [ 5483 11975]]\n"
     ]
    }
   ],
   "source": [
    "loc = LogisticRegression(solver='liblinear')\n",
    "loc.fit(x_train, y_train)\n",
    "\n",
    "y_train_pred = loc.predict(x_train)\n",
    "y_train_prob = loc.predict_proba(x_train)[:, 1]\n",
    "\n",
    "print('ROC score for train is :', roc_auc_score(y_train, y_train_prob))\n",
    "print('Classification report for train:\\n')\n",
    "print(classification_report(y_train, y_train_pred))\n",
    "print(confusion_matrix(y_train, y_train_pred))\n",
    "\n",
    "y_test_pred = loc.predict(x_test)\n",
    "y_test_prob = loc.predict_proba(x_test)[:, 1]\n",
    "\n",
    "print('ROC score for test is :', roc_auc_score(y_test, y_test_prob))\n",
    "print('Classification report for test :\\n')\n",
    "print(classification_report(y_test, y_test_pred))\n",
    "print(confusion_matrix(y_test, y_test_pred))\n",
    "\n",
    "# After class imbalance, roc score is not improved but both recall and f1-score is improved."
   ]
  },
  {
   "cell_type": "markdown",
   "metadata": {},
   "source": [
    "# Random forest"
   ]
  },
  {
   "cell_type": "code",
   "execution_count": 118,
   "metadata": {},
   "outputs": [
    {
     "name": "stdout",
     "output_type": "stream",
     "text": [
      "ROC score for train is : 0.9999991093078993\n",
      "Classification report for train:\n",
      "\n",
      "              precision    recall  f1-score   support\n",
      "\n",
      "           0       1.00      1.00      1.00    131177\n",
      "           1       1.00      1.00      1.00    131177\n",
      "\n",
      "    accuracy                           1.00    262354\n",
      "   macro avg       1.00      1.00      1.00    262354\n",
      "weighted avg       1.00      1.00      1.00    262354\n",
      "\n",
      "[[131175      2]\n",
      " [    12 131165]]\n",
      "ROC score for test is : 0.7039114579882277\n",
      "Classification report for test :\n",
      "\n",
      "              precision    recall  f1-score   support\n",
      "\n",
      "           0       0.83      0.73      0.78     56260\n",
      "           1       0.37      0.52      0.44     17458\n",
      "\n",
      "    accuracy                           0.68     73718\n",
      "   macro avg       0.60      0.63      0.61     73718\n",
      "weighted avg       0.72      0.68      0.70     73718\n",
      "\n",
      "[[40953 15307]\n",
      " [ 8335  9123]]\n"
     ]
    }
   ],
   "source": [
    "# Random forest without tuning\n",
    "rfc = RandomForestClassifier()\n",
    "rfc.fit(x_train, y_train)\n",
    "\n",
    "y_train_pred = rfc.predict(x_train)\n",
    "y_train_prob = rfc.predict_proba(x_train)[:, 1]\n",
    "\n",
    "print('ROC score for train is :', roc_auc_score(y_train, y_train_prob))\n",
    "print('Classification report for train:\\n')\n",
    "print(classification_report(y_train, y_train_pred))\n",
    "print(confusion_matrix(y_train, y_train_pred))\n",
    "\n",
    "y_test_pred = rfc.predict(x_test)\n",
    "y_test_prob = rfc.predict_proba(x_test)[:, 1]\n",
    "\n",
    "print('ROC score for test is :', roc_auc_score(y_test, y_test_prob))\n",
    "print('Classification report for test :\\n')\n",
    "print(classification_report(y_test, y_test_pred))\n",
    "print(confusion_matrix(y_test, y_test_pred))\n",
    "\n",
    "# Model is overfitting and tuned with better accuracy"
   ]
  },
  {
   "cell_type": "code",
   "execution_count": 120,
   "metadata": {
    "collapsed": true
   },
   "outputs": [
    {
     "name": "stdout",
     "output_type": "stream",
     "text": [
      "Fitting 5 folds for each of 10 candidates, totalling 50 fits\n"
     ]
    },
    {
     "data": {
      "text/plain": [
       "RandomizedSearchCV(cv=5, estimator=RandomForestClassifier(), n_jobs=-1,\n",
       "                   param_distributions={'criterion': ['gini', 'entropy'],\n",
       "                                        'max_depth': <scipy.stats._distn_infrastructure.rv_frozen object at 0x000001BDBEB387C0>,\n",
       "                                        'max_features': ['auto', 'sqrt',\n",
       "                                                         'log2'],\n",
       "                                        'min_samples_split': <scipy.stats._distn_infrastructure.rv_frozen object at 0x000001BDBEB3B5B0>,\n",
       "                                        'n_estimators': <scipy.stats._distn_infrastructure.rv_frozen object at 0x000001BDBEB38D30>},\n",
       "                   scoring='roc_auc', verbose=3)"
      ]
     },
     "execution_count": 120,
     "metadata": {},
     "output_type": "execute_result"
    }
   ],
   "source": [
    "# Tuning of Random forest\n",
    "rfc = RandomForestClassifier()\n",
    "params = {'criterion':['gini', 'entropy'], 'max_depth':sp_randint(3, 20), 'min_samples_split':sp_randint(2, 20), \n",
    "         'max_features':[\"auto\", \"sqrt\", \"log2\"], 'n_estimators':sp_randint(50, 200)}\n",
    "\n",
    "rscv = RandomizedSearchCV(rfc, param_distributions=params, cv=5, scoring='roc_auc', n_iter=10, n_jobs=-1, verbose=3)\n",
    "rscv.fit(x, y)"
   ]
  },
  {
   "cell_type": "code",
   "execution_count": 121,
   "metadata": {},
   "outputs": [
    {
     "data": {
      "text/plain": [
       "{'criterion': 'gini',\n",
       " 'max_depth': 10,\n",
       " 'max_features': 'auto',\n",
       " 'min_samples_split': 2,\n",
       " 'n_estimators': 108}"
      ]
     },
     "execution_count": 121,
     "metadata": {},
     "output_type": "execute_result"
    }
   ],
   "source": [
    "rscv.best_params_"
   ]
  },
  {
   "cell_type": "code",
   "execution_count": 122,
   "metadata": {},
   "outputs": [
    {
     "name": "stdout",
     "output_type": "stream",
     "text": [
      "ROC score for train is : 0.7923347395683353\n",
      "Classification report for train:\n",
      "\n",
      "              precision    recall  f1-score   support\n",
      "\n",
      "           0       0.74      0.69      0.72    131177\n",
      "           1       0.71      0.76      0.73    131177\n",
      "\n",
      "    accuracy                           0.72    262354\n",
      "   macro avg       0.73      0.72      0.72    262354\n",
      "weighted avg       0.73      0.72      0.72    262354\n",
      "\n",
      "[[90772 40405]\n",
      " [31884 99293]]\n",
      "ROC score for test is : 0.7690931950560782\n",
      "Classification report for test :\n",
      "\n",
      "              precision    recall  f1-score   support\n",
      "\n",
      "           0       0.89      0.68      0.77     56260\n",
      "           1       0.41      0.72      0.52     17458\n",
      "\n",
      "    accuracy                           0.69     73718\n",
      "   macro avg       0.65      0.70      0.65     73718\n",
      "weighted avg       0.77      0.69      0.71     73718\n",
      "\n",
      "[[38392 17868]\n",
      " [ 4904 12554]]\n"
     ]
    }
   ],
   "source": [
    "# Random forest without tuning\n",
    "rfc = RandomForestClassifier(**rscv.best_params_)\n",
    "rfc.fit(x_train, y_train)\n",
    "\n",
    "y_train_pred = rfc.predict(x_train)\n",
    "y_train_prob = rfc.predict_proba(x_train)[:, 1]\n",
    "\n",
    "print('ROC score for train is :', roc_auc_score(y_train, y_train_prob))\n",
    "print('Classification report for train:\\n')\n",
    "print(classification_report(y_train, y_train_pred))\n",
    "print(confusion_matrix(y_train, y_train_pred))\n",
    "\n",
    "y_test_pred = rfc.predict(x_test)\n",
    "y_test_prob = rfc.predict_proba(x_test)[:, 1]\n",
    "\n",
    "print('ROC score for test is :', roc_auc_score(y_test, y_test_prob))\n",
    "print('Classification report for test :\\n')\n",
    "print(classification_report(y_test, y_test_pred))\n",
    "print(confusion_matrix(y_test, y_test_pred))\n",
    "\n",
    "# Model is overfitting and tuned with better accuracy"
   ]
  },
  {
   "cell_type": "code",
   "execution_count": 124,
   "metadata": {},
   "outputs": [
    {
     "name": "stdout",
     "output_type": "stream",
     "text": [
      "ROC score for train is : 0.7921688645891954\n",
      "Classification report for train:\n",
      "\n",
      "              precision    recall  f1-score   support\n",
      "\n",
      "           0       0.74      0.69      0.71    131177\n",
      "           1       0.71      0.76      0.73    131177\n",
      "\n",
      "    accuracy                           0.72    262354\n",
      "   macro avg       0.73      0.72      0.72    262354\n",
      "weighted avg       0.73      0.72      0.72    262354\n",
      "\n",
      "[[90727 40450]\n",
      " [31933 99244]]\n",
      "ROC score for test is : 0.7693466813878268\n",
      "Classification report for test :\n",
      "\n",
      "              precision    recall  f1-score   support\n",
      "\n",
      "           0       0.89      0.68      0.77     56260\n",
      "           1       0.41      0.72      0.53     17458\n",
      "\n",
      "    accuracy                           0.69     73718\n",
      "   macro avg       0.65      0.70      0.65     73718\n",
      "weighted avg       0.77      0.69      0.71     73718\n",
      "\n",
      "[[38390 17870]\n",
      " [ 4877 12581]]\n"
     ]
    }
   ],
   "source": [
    "# Random forest without tuning\n",
    "rfc = RandomForestClassifier(criterion= 'gini', max_depth= 10, max_features= 'auto', min_samples_split= 5, n_estimators= 300)\n",
    "rfc.fit(x_train, y_train)\n",
    "\n",
    "y_train_pred = rfc.predict(x_train)\n",
    "y_train_prob = rfc.predict_proba(x_train)[:, 1]\n",
    "\n",
    "print('ROC score for train is :', roc_auc_score(y_train, y_train_prob))\n",
    "print('Classification report for train:\\n')\n",
    "print(classification_report(y_train, y_train_pred))\n",
    "print(confusion_matrix(y_train, y_train_pred))\n",
    "\n",
    "y_test_pred = rfc.predict(x_test)\n",
    "y_test_prob = rfc.predict_proba(x_test)[:, 1]\n",
    "\n",
    "print('ROC score for test is :', roc_auc_score(y_test, y_test_prob))\n",
    "print('Classification report for test :\\n')\n",
    "print(classification_report(y_test, y_test_pred))\n",
    "print(confusion_matrix(y_test, y_test_pred))"
   ]
  },
  {
   "cell_type": "code",
   "execution_count": 215,
   "metadata": {},
   "outputs": [
    {
     "name": "stdout",
     "output_type": "stream",
     "text": [
      "ROC score for train is : 0.7785617346051418\n",
      "Classification report for train:\n",
      "\n",
      "              precision    recall  f1-score   support\n",
      "\n",
      "           0       0.73      0.68      0.70    131177\n",
      "           1       0.70      0.74      0.72    131177\n",
      "\n",
      "    accuracy                           0.71    262354\n",
      "   macro avg       0.71      0.71      0.71    262354\n",
      "weighted avg       0.71      0.71      0.71    262354\n",
      "\n",
      "[[88798 42379]\n",
      " [33629 97548]]\n",
      "ROC score for test is : 0.7734144425927492\n",
      "Classification report for test :\n",
      "\n",
      "              precision    recall  f1-score   support\n",
      "\n",
      "           0       0.89      0.67      0.77     56260\n",
      "           1       0.41      0.74      0.53     17458\n",
      "\n",
      "    accuracy                           0.69     73718\n",
      "   macro avg       0.65      0.71      0.65     73718\n",
      "weighted avg       0.78      0.69      0.71     73718\n",
      "\n",
      "[[37939 18321]\n",
      " [ 4558 12900]]\n"
     ]
    }
   ],
   "source": [
    "# Random forest without tuning -- 70.568\n",
    "rfc = RandomForestClassifier(criterion= 'gini', max_depth= 8, max_features= 'auto', min_samples_split= 5, \n",
    "                             n_estimators= 400)\n",
    "rfc.fit(x1, y1)\n",
    "\n",
    "y_train_pred = rfc.predict(x_train)\n",
    "y_train_prob = rfc.predict_proba(x_train)[:, 1]\n",
    "\n",
    "print('ROC score for train is :', roc_auc_score(y_train, y_train_prob))\n",
    "print('Classification report for train:\\n')\n",
    "print(classification_report(y_train, y_train_pred))\n",
    "print(confusion_matrix(y_train, y_train_pred))\n",
    "\n",
    "y_test_pred = rfc.predict(x_test)\n",
    "y_test_prob = rfc.predict_proba(x_test)[:, 1]\n",
    "\n",
    "print('ROC score for test is :', roc_auc_score(y_test, y_test_prob))\n",
    "print('Classification report for test :\\n')\n",
    "print(classification_report(y_test, y_test_pred))\n",
    "print(confusion_matrix(y_test, y_test_pred))"
   ]
  },
  {
   "cell_type": "code",
   "execution_count": 216,
   "metadata": {},
   "outputs": [
    {
     "data": {
      "text/html": [
       "<div>\n",
       "<style scoped>\n",
       "    .dataframe tbody tr th:only-of-type {\n",
       "        vertical-align: middle;\n",
       "    }\n",
       "\n",
       "    .dataframe tbody tr th {\n",
       "        vertical-align: top;\n",
       "    }\n",
       "\n",
       "    .dataframe thead th {\n",
       "        text-align: right;\n",
       "    }\n",
       "</style>\n",
       "<table border=\"1\" class=\"dataframe\">\n",
       "  <thead>\n",
       "    <tr style=\"text-align: right;\">\n",
       "      <th></th>\n",
       "      <th>ID</th>\n",
       "      <th>Gender</th>\n",
       "      <th>Age</th>\n",
       "      <th>Region_Code</th>\n",
       "      <th>Occupation</th>\n",
       "      <th>Channel_Code</th>\n",
       "      <th>Vintage</th>\n",
       "      <th>Credit_Product</th>\n",
       "      <th>Avg_Account_Balance</th>\n",
       "      <th>Is_Active</th>\n",
       "    </tr>\n",
       "  </thead>\n",
       "  <tbody>\n",
       "    <tr>\n",
       "      <th>0</th>\n",
       "      <td>VBENBARO</td>\n",
       "      <td>Male</td>\n",
       "      <td>29</td>\n",
       "      <td>RG254</td>\n",
       "      <td>Other</td>\n",
       "      <td>X1</td>\n",
       "      <td>25</td>\n",
       "      <td>Yes</td>\n",
       "      <td>742366</td>\n",
       "      <td>No</td>\n",
       "    </tr>\n",
       "    <tr>\n",
       "      <th>1</th>\n",
       "      <td>CCMEWNKY</td>\n",
       "      <td>Male</td>\n",
       "      <td>43</td>\n",
       "      <td>RG268</td>\n",
       "      <td>Other</td>\n",
       "      <td>X2</td>\n",
       "      <td>49</td>\n",
       "      <td>NaN</td>\n",
       "      <td>925537</td>\n",
       "      <td>No</td>\n",
       "    </tr>\n",
       "  </tbody>\n",
       "</table>\n",
       "</div>"
      ],
      "text/plain": [
       "         ID Gender  Age Region_Code Occupation Channel_Code  Vintage  \\\n",
       "0  VBENBARO   Male   29       RG254      Other           X1       25   \n",
       "1  CCMEWNKY   Male   43       RG268      Other           X2       49   \n",
       "\n",
       "  Credit_Product  Avg_Account_Balance Is_Active  \n",
       "0            Yes               742366        No  \n",
       "1            NaN               925537        No  "
      ]
     },
     "execution_count": 216,
     "metadata": {},
     "output_type": "execute_result"
    }
   ],
   "source": [
    "#test data prediction\n",
    "df = pd.read_csv('test_mSzZ8RL.csv')\n",
    "df.head(2)"
   ]
  },
  {
   "cell_type": "code",
   "execution_count": 217,
   "metadata": {},
   "outputs": [],
   "source": [
    "sample_submission = df.iloc[:, [0]]\n",
    "sample_submission['Is_Lead'] = rfc.predict(df_test)"
   ]
  },
  {
   "cell_type": "code",
   "execution_count": 218,
   "metadata": {},
   "outputs": [],
   "source": [
    "sample_submission.to_csv('sample_submission.csv')"
   ]
  },
  {
   "cell_type": "markdown",
   "metadata": {},
   "source": [
    "# XGboost"
   ]
  },
  {
   "cell_type": "code",
   "execution_count": 155,
   "metadata": {},
   "outputs": [
    {
     "name": "stdout",
     "output_type": "stream",
     "text": [
      "[19:42:20] WARNING: C:/Users/Administrator/workspace/xgboost-win64_release_1.3.0/src/learner.cc:1061: Starting in XGBoost 1.3.0, the default evaluation metric used with the objective 'binary:logistic' was changed from 'error' to 'logloss'. Explicitly set eval_metric if you'd like to restore the old behavior.\n",
      "ROC score for train is : 0.8037028915215134\n",
      "Classification report for train:\n",
      "\n",
      "              precision    recall  f1-score   support\n",
      "\n",
      "           0       0.74      0.71      0.72    131177\n",
      "           1       0.72      0.75      0.74    131177\n",
      "\n",
      "    accuracy                           0.73    262354\n",
      "   macro avg       0.73      0.73      0.73    262354\n",
      "weighted avg       0.73      0.73      0.73    262354\n",
      "\n",
      "[[92602 38575]\n",
      " [32201 98976]]\n",
      "ROC score for test is : 0.7642069935393572\n",
      "Classification report for test :\n",
      "\n",
      "              precision    recall  f1-score   support\n",
      "\n",
      "           0       0.88      0.69      0.78     56260\n",
      "           1       0.41      0.70      0.52     17458\n",
      "\n",
      "    accuracy                           0.69     73718\n",
      "   macro avg       0.65      0.70      0.65     73718\n",
      "weighted avg       0.77      0.69      0.72     73718\n",
      "\n",
      "[[38928 17332]\n",
      " [ 5201 12257]]\n"
     ]
    }
   ],
   "source": [
    "xg = xgb.XGBClassifier()\n",
    "xg.fit(x_train, y_train)\n",
    "\n",
    "y_train_pred = xg.predict(x_train)\n",
    "y_train_prob = xg.predict_proba(x_train)[:, 1]\n",
    "\n",
    "print('ROC score for train is :', roc_auc_score(y_train, y_train_prob))\n",
    "print('Classification report for train:\\n')\n",
    "print(classification_report(y_train, y_train_pred))\n",
    "print(confusion_matrix(y_train, y_train_pred))\n",
    "\n",
    "y_test_pred = xg.predict(x_test)\n",
    "y_test_prob = xg.predict_proba(x_test)[:, 1]\n",
    "\n",
    "print('ROC score for test is :', roc_auc_score(y_test, y_test_prob))\n",
    "print('Classification report for test :\\n')\n",
    "print(classification_report(y_test, y_test_pred))\n",
    "print(confusion_matrix(y_test, y_test_pred))"
   ]
  },
  {
   "cell_type": "markdown",
   "metadata": {},
   "source": [
    "# LightGBM"
   ]
  },
  {
   "cell_type": "code",
   "execution_count": 157,
   "metadata": {},
   "outputs": [
    {
     "name": "stdout",
     "output_type": "stream",
     "text": [
      "ROC score for train is : 0.7902361506288894\n",
      "Classification report for train:\n",
      "\n",
      "              precision    recall  f1-score   support\n",
      "\n",
      "           0       0.73      0.69      0.71    131177\n",
      "           1       0.71      0.75      0.73    131177\n",
      "\n",
      "    accuracy                           0.72    262354\n",
      "   macro avg       0.72      0.72      0.72    262354\n",
      "weighted avg       0.72      0.72      0.72    262354\n",
      "\n",
      "[[91037 40140]\n",
      " [33193 97984]]\n",
      "ROC score for test is : 0.7684608745820602\n",
      "Classification report for test :\n",
      "\n",
      "              precision    recall  f1-score   support\n",
      "\n",
      "           0       0.89      0.69      0.77     56260\n",
      "           1       0.42      0.71      0.53     17458\n",
      "\n",
      "    accuracy                           0.69     73718\n",
      "   macro avg       0.65      0.70      0.65     73718\n",
      "weighted avg       0.77      0.69      0.72     73718\n",
      "\n",
      "[[38692 17568]\n",
      " [ 4988 12470]]\n"
     ]
    }
   ],
   "source": [
    "lg = lgb.LGBMClassifier()\n",
    "lg.fit(x_train, y_train)\n",
    "\n",
    "y_train_pred = lg.predict(x_train)\n",
    "y_train_prob = lg.predict_proba(x_train)[:, 1]\n",
    "\n",
    "print('ROC score for train is :', roc_auc_score(y_train, y_train_prob))\n",
    "print('Classification report for train:\\n')\n",
    "print(classification_report(y_train, y_train_pred))\n",
    "print(confusion_matrix(y_train, y_train_pred))\n",
    "\n",
    "y_test_pred = lg.predict(x_test)\n",
    "y_test_prob = lg.predict_proba(x_test)[:, 1]\n",
    "\n",
    "print('ROC score for test is :', roc_auc_score(y_test, y_test_prob))\n",
    "print('Classification report for test :\\n')\n",
    "print(classification_report(y_test, y_test_pred))\n",
    "print(confusion_matrix(y_test, y_test_pred))"
   ]
  },
  {
   "cell_type": "code",
   "execution_count": 158,
   "metadata": {},
   "outputs": [
    {
     "name": "stdout",
     "output_type": "stream",
     "text": [
      "[LightGBM] [Warning] Accuracy may be bad since you didn't explicitly set num_leaves OR 2^max_depth > num_leaves. (num_leaves=31).\n"
     ]
    },
    {
     "data": {
      "text/plain": [
       "RandomizedSearchCV(cv=5, estimator=LGBMClassifier(), n_jobs=-1,\n",
       "                   param_distributions={'boosting_type': ['gdbt', 'dart', 'rf'],\n",
       "                                        'learning_rate': [0.1, 0.2, 0.3, 0.4,\n",
       "                                                          0.5],\n",
       "                                        'max_depth': <scipy.stats._distn_infrastructure.rv_frozen object at 0x000001BDA2F49970>,\n",
       "                                        'n_estimators': <scipy.stats._distn_infrastructure.rv_frozen object at 0x000001BDA2E63E50>},\n",
       "                   scoring='roc_auc')"
      ]
     },
     "execution_count": 158,
     "metadata": {},
     "output_type": "execute_result"
    }
   ],
   "source": [
    "# Tuning of lightgbm\n",
    "lg = lgb.LGBMClassifier()\n",
    "params = {'boosting_type':['gdbt', 'dart', 'rf'], 'max_depth':sp_randint(-1, 20), 'learning_rate':[0.1, 0.2,0.3,0.4,0.5], \n",
    "         'n_estimators':sp_randint(50, 400)}\n",
    "\n",
    "rscv = RandomizedSearchCV(lg, param_distributions=params, cv=5, scoring='roc_auc', n_iter=10, n_jobs=-1)\n",
    "rscv.fit(x, y)"
   ]
  },
  {
   "cell_type": "code",
   "execution_count": 160,
   "metadata": {},
   "outputs": [
    {
     "data": {
      "text/plain": [
       "{'boosting_type': 'dart',\n",
       " 'learning_rate': 0.2,\n",
       " 'max_depth': 12,\n",
       " 'n_estimators': 87}"
      ]
     },
     "execution_count": 160,
     "metadata": {},
     "output_type": "execute_result"
    }
   ],
   "source": [
    "rscv.best_params_"
   ]
  },
  {
   "cell_type": "code",
   "execution_count": 159,
   "metadata": {},
   "outputs": [
    {
     "name": "stdout",
     "output_type": "stream",
     "text": [
      "ROC score for train is : 0.7888217625189644\n",
      "Classification report for train:\n",
      "\n",
      "              precision    recall  f1-score   support\n",
      "\n",
      "           0       0.73      0.69      0.71    131177\n",
      "           1       0.71      0.75      0.73    131177\n",
      "\n",
      "    accuracy                           0.72    262354\n",
      "   macro avg       0.72      0.72      0.72    262354\n",
      "weighted avg       0.72      0.72      0.72    262354\n",
      "\n",
      "[[90852 40325]\n",
      " [33308 97869]]\n",
      "ROC score for test is : 0.7693294448548438\n",
      "Classification report for test :\n",
      "\n",
      "              precision    recall  f1-score   support\n",
      "\n",
      "           0       0.89      0.69      0.77     56260\n",
      "           1       0.41      0.71      0.52     17458\n",
      "\n",
      "    accuracy                           0.69     73718\n",
      "   macro avg       0.65      0.70      0.65     73718\n",
      "weighted avg       0.77      0.69      0.71     73718\n",
      "\n",
      "[[38649 17611]\n",
      " [ 4997 12461]]\n"
     ]
    }
   ],
   "source": [
    "lg = lgb.LGBMClassifier(**rscv.best_params_)\n",
    "lg.fit(x_train, y_train)\n",
    "\n",
    "y_train_pred = lg.predict(x_train)\n",
    "y_train_prob = lg.predict_proba(x_train)[:, 1]\n",
    "\n",
    "print('ROC score for train is :', roc_auc_score(y_train, y_train_prob))\n",
    "print('Classification report for train:\\n')\n",
    "print(classification_report(y_train, y_train_pred))\n",
    "print(confusion_matrix(y_train, y_train_pred))\n",
    "\n",
    "y_test_pred = lg.predict(x_test)\n",
    "y_test_prob = lg.predict_proba(x_test)[:, 1]\n",
    "\n",
    "print('ROC score for test is :', roc_auc_score(y_test, y_test_prob))\n",
    "print('Classification report for test :\\n')\n",
    "print(classification_report(y_test, y_test_pred))\n",
    "print(confusion_matrix(y_test, y_test_pred))"
   ]
  },
  {
   "cell_type": "code",
   "execution_count": 189,
   "metadata": {},
   "outputs": [
    {
     "name": "stdout",
     "output_type": "stream",
     "text": [
      "[LightGBM] [Warning] Accuracy may be bad since you didn't explicitly set num_leaves OR 2^max_depth > num_leaves. (num_leaves=31).\n",
      "ROC score for train is : 0.7846693363609323\n",
      "Classification report for train:\n",
      "\n",
      "              precision    recall  f1-score   support\n",
      "\n",
      "           0       0.73      0.69      0.71    131177\n",
      "           1       0.71      0.74      0.72    131177\n",
      "\n",
      "    accuracy                           0.72    262354\n",
      "   macro avg       0.72      0.72      0.72    262354\n",
      "weighted avg       0.72      0.72      0.72    262354\n",
      "\n",
      "[[90449 40728]\n",
      " [33606 97571]]\n",
      "ROC score for test is : 0.7695637164154105\n",
      "Classification report for test :\n",
      "\n",
      "              precision    recall  f1-score   support\n",
      "\n",
      "           0       0.89      0.68      0.77     56260\n",
      "           1       0.41      0.72      0.53     17458\n",
      "\n",
      "    accuracy                           0.69     73718\n",
      "   macro avg       0.65      0.70      0.65     73718\n",
      "weighted avg       0.78      0.69      0.71     73718\n",
      "\n",
      "[[38531 17729]\n",
      " [ 4910 12548]]\n"
     ]
    }
   ],
   "source": [
    "lg = lgb.LGBMClassifier(boosting_type='dart', learning_rate= 0.12, max_depth= 25, n_estimators= 120)\n",
    "lg.fit(x_train, y_train)\n",
    "\n",
    "y_train_pred = lg.predict(x_train)\n",
    "y_train_prob = lg.predict_proba(x_train)[:, 1]\n",
    "\n",
    "print('ROC score for train is :', roc_auc_score(y_train, y_train_prob))\n",
    "print('Classification report for train:\\n')\n",
    "print(classification_report(y_train, y_train_pred))\n",
    "print(confusion_matrix(y_train, y_train_pred))\n",
    "\n",
    "y_test_pred = lg.predict(x_test)\n",
    "y_test_prob = lg.predict_proba(x_test)[:, 1]\n",
    "\n",
    "print('ROC score for test is :', roc_auc_score(y_test, y_test_prob))\n",
    "print('Classification report for test :\\n')\n",
    "print(classification_report(y_test, y_test_pred))\n",
    "print(confusion_matrix(y_test, y_test_pred))"
   ]
  },
  {
   "cell_type": "code",
   "execution_count": 194,
   "metadata": {},
   "outputs": [],
   "source": [
    "x1, y1 = SMOTE().fit_resample(x, y)"
   ]
  },
  {
   "cell_type": "code",
   "execution_count": 195,
   "metadata": {},
   "outputs": [
    {
     "name": "stdout",
     "output_type": "stream",
     "text": [
      "[LightGBM] [Warning] Accuracy may be bad since you didn't explicitly set num_leaves OR 2^max_depth > num_leaves. (num_leaves=31).\n",
      "ROC score for train is : 0.782241238678501\n",
      "Classification report for train:\n",
      "\n",
      "              precision    recall  f1-score   support\n",
      "\n",
      "           0       0.73      0.69      0.71    131177\n",
      "           1       0.70      0.74      0.72    131177\n",
      "\n",
      "    accuracy                           0.71    262354\n",
      "   macro avg       0.71      0.71      0.71    262354\n",
      "weighted avg       0.71      0.71      0.71    262354\n",
      "\n",
      "[[90111 41066]\n",
      " [34022 97155]]\n",
      "ROC score for test is : 0.7748021848342781\n",
      "Classification report for test :\n",
      "\n",
      "              precision    recall  f1-score   support\n",
      "\n",
      "           0       0.89      0.68      0.77     56260\n",
      "           1       0.42      0.73      0.53     17458\n",
      "\n",
      "    accuracy                           0.70     73718\n",
      "   macro avg       0.65      0.71      0.65     73718\n",
      "weighted avg       0.78      0.70      0.72     73718\n",
      "\n",
      "[[38513 17747]\n",
      " [ 4734 12724]]\n"
     ]
    }
   ],
   "source": [
    "lg.fit(x1, y1)\n",
    "\n",
    "y_train_pred = lg.predict(x_train)\n",
    "y_train_prob = lg.predict_proba(x_train)[:, 1]\n",
    "\n",
    "print('ROC score for train is :', roc_auc_score(y_train, y_train_prob))\n",
    "print('Classification report for train:\\n')\n",
    "print(classification_report(y_train, y_train_pred))\n",
    "print(confusion_matrix(y_train, y_train_pred))\n",
    "\n",
    "y_test_pred = lg.predict(x_test)\n",
    "y_test_prob = lg.predict_proba(x_test)[:, 1]\n",
    "\n",
    "print('ROC score for test is :', roc_auc_score(y_test, y_test_prob))\n",
    "print('Classification report for test :\\n')\n",
    "print(classification_report(y_test, y_test_pred))\n",
    "print(confusion_matrix(y_test, y_test_pred))"
   ]
  },
  {
   "cell_type": "code",
   "execution_count": 196,
   "metadata": {},
   "outputs": [
    {
     "data": {
      "text/html": [
       "<div>\n",
       "<style scoped>\n",
       "    .dataframe tbody tr th:only-of-type {\n",
       "        vertical-align: middle;\n",
       "    }\n",
       "\n",
       "    .dataframe tbody tr th {\n",
       "        vertical-align: top;\n",
       "    }\n",
       "\n",
       "    .dataframe thead th {\n",
       "        text-align: right;\n",
       "    }\n",
       "</style>\n",
       "<table border=\"1\" class=\"dataframe\">\n",
       "  <thead>\n",
       "    <tr style=\"text-align: right;\">\n",
       "      <th></th>\n",
       "      <th>ID</th>\n",
       "      <th>Gender</th>\n",
       "      <th>Age</th>\n",
       "      <th>Region_Code</th>\n",
       "      <th>Occupation</th>\n",
       "      <th>Channel_Code</th>\n",
       "      <th>Vintage</th>\n",
       "      <th>Credit_Product</th>\n",
       "      <th>Avg_Account_Balance</th>\n",
       "      <th>Is_Active</th>\n",
       "    </tr>\n",
       "  </thead>\n",
       "  <tbody>\n",
       "    <tr>\n",
       "      <th>0</th>\n",
       "      <td>VBENBARO</td>\n",
       "      <td>Male</td>\n",
       "      <td>29</td>\n",
       "      <td>RG254</td>\n",
       "      <td>Other</td>\n",
       "      <td>X1</td>\n",
       "      <td>25</td>\n",
       "      <td>Yes</td>\n",
       "      <td>742366</td>\n",
       "      <td>No</td>\n",
       "    </tr>\n",
       "    <tr>\n",
       "      <th>1</th>\n",
       "      <td>CCMEWNKY</td>\n",
       "      <td>Male</td>\n",
       "      <td>43</td>\n",
       "      <td>RG268</td>\n",
       "      <td>Other</td>\n",
       "      <td>X2</td>\n",
       "      <td>49</td>\n",
       "      <td>NaN</td>\n",
       "      <td>925537</td>\n",
       "      <td>No</td>\n",
       "    </tr>\n",
       "  </tbody>\n",
       "</table>\n",
       "</div>"
      ],
      "text/plain": [
       "         ID Gender  Age Region_Code Occupation Channel_Code  Vintage  \\\n",
       "0  VBENBARO   Male   29       RG254      Other           X1       25   \n",
       "1  CCMEWNKY   Male   43       RG268      Other           X2       49   \n",
       "\n",
       "  Credit_Product  Avg_Account_Balance Is_Active  \n",
       "0            Yes               742366        No  \n",
       "1            NaN               925537        No  "
      ]
     },
     "execution_count": 196,
     "metadata": {},
     "output_type": "execute_result"
    }
   ],
   "source": [
    "#test data prediction\n",
    "df = pd.read_csv('test_mSzZ8RL.csv')\n",
    "df.head(2)"
   ]
  },
  {
   "cell_type": "code",
   "execution_count": 197,
   "metadata": {},
   "outputs": [],
   "source": [
    "sample_submission = df.iloc[:, [0]]\n",
    "sample_submission['Is_Lead'] = lg.predict(df_test)"
   ]
  },
  {
   "cell_type": "code",
   "execution_count": 198,
   "metadata": {},
   "outputs": [],
   "source": [
    "sample_submission.to_csv('sample_submission.csv')"
   ]
  },
  {
   "cell_type": "code",
   "execution_count": null,
   "metadata": {},
   "outputs": [],
   "source": []
  }
 ],
 "metadata": {
  "kernelspec": {
   "display_name": "Python 3",
   "language": "python",
   "name": "python3"
  },
  "language_info": {
   "codemirror_mode": {
    "name": "ipython",
    "version": 3
   },
   "file_extension": ".py",
   "mimetype": "text/x-python",
   "name": "python",
   "nbconvert_exporter": "python",
   "pygments_lexer": "ipython3",
   "version": "3.8.5"
  }
 },
 "nbformat": 4,
 "nbformat_minor": 4
}
